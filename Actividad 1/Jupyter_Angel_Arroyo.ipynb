{
 "cells": [
  {
   "cell_type": "markdown",
   "id": "dc2d5dc1",
   "metadata": {},
   "source": [
    "# Tarea 1 Angel Arroyo"
   ]
  },
  {
   "cell_type": "markdown",
   "id": "528d38b6",
   "metadata": {},
   "source": [
    "## Carga de datos"
   ]
  },
  {
   "cell_type": "code",
   "execution_count": 1,
   "id": "2e78f611",
   "metadata": {},
   "outputs": [],
   "source": [
    "# Cargas de bibliotecas Pandas y Matplotlib\n",
    "import matplotlib.pyplot as plt\n",
    "import pandas as pd"
   ]
  },
  {
   "cell_type": "markdown",
   "id": "b9f197cb",
   "metadata": {},
   "source": [
    "En este notebook se utilizará la gráfica cronológica donde se muestra cómo por primera vez Apple tuvo una menor ganacia en referencia a años pasados. *Fuente:* https://es.statista.com/grafico/6417/apple-ingresa-menos-por-primera-vez-en-15-anos/\n",
    "![Imagen Apple](ImagenDatos.JPEG)"
   ]
  },
  {
   "cell_type": "markdown",
   "id": "3748b8da",
   "metadata": {},
   "source": [
    "En este notebook se utilizará la gráfica cronológica donde se muestra cómo por primera vez Apple tuvo una menor ganacia en referencia a años pasados. *Fuente:* https://es.statista.com/grafico/6417/apple-ingresa-menos-por-primera-vez-en-15-anos/\n",
    "<img src=\"ImagenDatos.JPEG\" width=300/>"
   ]
  },
  {
   "cell_type": "code",
   "execution_count": 2,
   "id": "d060933b",
   "metadata": {},
   "outputs": [],
   "source": [
    "#Lectura de datos\n",
    "data = pd.read_csv (\"data.csv\")"
   ]
  },
  {
   "cell_type": "code",
   "execution_count": 3,
   "id": "ae942a9c",
   "metadata": {},
   "outputs": [
    {
     "data": {
      "text/html": [
       "<div>\n",
       "<style scoped>\n",
       "    .dataframe tbody tr th:only-of-type {\n",
       "        vertical-align: middle;\n",
       "    }\n",
       "\n",
       "    .dataframe tbody tr th {\n",
       "        vertical-align: top;\n",
       "    }\n",
       "\n",
       "    .dataframe thead th {\n",
       "        text-align: right;\n",
       "    }\n",
       "</style>\n",
       "<table border=\"1\" class=\"dataframe\">\n",
       "  <thead>\n",
       "    <tr style=\"text-align: right;\">\n",
       "      <th></th>\n",
       "      <th>Income</th>\n",
       "      <th>Year</th>\n",
       "    </tr>\n",
       "  </thead>\n",
       "  <tbody>\n",
       "    <tr>\n",
       "      <th>0</th>\n",
       "      <td>8.0</td>\n",
       "      <td>2000</td>\n",
       "    </tr>\n",
       "    <tr>\n",
       "      <th>1</th>\n",
       "      <td>5.4</td>\n",
       "      <td>2001</td>\n",
       "    </tr>\n",
       "    <tr>\n",
       "      <th>2</th>\n",
       "      <td>5.7</td>\n",
       "      <td>2002</td>\n",
       "    </tr>\n",
       "    <tr>\n",
       "      <th>3</th>\n",
       "      <td>6.2</td>\n",
       "      <td>2003</td>\n",
       "    </tr>\n",
       "    <tr>\n",
       "      <th>4</th>\n",
       "      <td>8.3</td>\n",
       "      <td>2004</td>\n",
       "    </tr>\n",
       "  </tbody>\n",
       "</table>\n",
       "</div>"
      ],
      "text/plain": [
       "   Income  Year\n",
       "0     8.0  2000\n",
       "1     5.4  2001\n",
       "2     5.7  2002\n",
       "3     6.2  2003\n",
       "4     8.3  2004"
      ]
     },
     "execution_count": 3,
     "metadata": {},
     "output_type": "execute_result"
    }
   ],
   "source": [
    "#Mostrar datos\n",
    "data.head ()"
   ]
  },
  {
   "cell_type": "markdown",
   "id": "fa5d9505",
   "metadata": {},
   "source": [
    "## Graficar los datos"
   ]
  },
  {
   "cell_type": "code",
   "execution_count": 4,
   "id": "fdeed7a0",
   "metadata": {},
   "outputs": [
    {
     "data": {
      "image/png": "[encoded data removed]",
      "text/plain": [
       "<Figure size 640x480 with 1 Axes>"
      ]
     },
     "metadata": {},
     "output_type": "display_data"
    }
   ],
   "source": [
    "#Graficamos variables\n",
    "data.plot(x = 'Year', y = 'Income', kind = 'line')\n",
    "plt.show()"
   ]
  },
  {
   "cell_type": "code",
   "execution_count": null,
   "id": "80834f50",
   "metadata": {},
   "outputs": [],
   "source": []
  }
 ],
 "metadata": {
  "kernelspec": {
   "display_name": "Python 3 (ipykernel)",
   "language": "python",
   "name": "python3"
  },
  "language_info": {
   "codemirror_mode": {
    "name": "ipython",
    "version": 3
   },
   "file_extension": ".py",
   "mimetype": "text/x-python",
   "name": "python",
   "nbconvert_exporter": "python",
   "pygments_lexer": "ipython3",
   "version": "3.7.7"
  }
 },
 "nbformat": 4,
 "nbformat_minor": 5
}
