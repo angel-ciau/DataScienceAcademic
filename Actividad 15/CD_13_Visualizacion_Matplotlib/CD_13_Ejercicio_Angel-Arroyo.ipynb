{
 "cells": [
  {
   "cell_type": "markdown",
   "metadata": {},
   "source": [
    "<!--Información del curso-->\n",
    "<img align=\"left\" style=\"padding-right:10px;\" src=\"figuras/logo_ciencia_datos.png\">"
   ]
  },
  {
   "cell_type": "markdown",
   "metadata": {},
   "source": [
    "# Librerías\n",
    "\n",
    "Cargando las bibliotecas que necesitamos \n"
   ]
  },
  {
   "cell_type": "code",
   "execution_count": 2,
   "metadata": {},
   "outputs": [],
   "source": [
    "import pandas as pd\n",
    "import numpy as np\n",
    "import matplotlib.pyplot as plt"
   ]
  },
  {
   "cell_type": "markdown",
   "metadata": {},
   "source": [
    "## Instrucciones"
   ]
  },
  {
   "cell_type": "markdown",
   "metadata": {},
   "source": [
    "* 1. Cada inciso de los diferentes ejercicios tendrá que resolverse con los dos estilos \n",
    "* 2. Se ha colocado en cada ejercicio los datos a utilizar, si es necesario modifíquelos hasta tener un DataFrame que pueda usar para resolver cada uno de los incisos\n",
    "* 3. No se aceptarán ejercicios usando funciones de graficas de pandas, por ejemplo  *df.iloc[0].plot(kind = 'bar')*  \n",
    "* 4. Los datos de \"Pacientes confirmados con Covid en México\" se obtuvieron el día 30 de Noviembre a las 2pm\n",
    "* 5. Puede agregar todas las opciones de visualización que crea convenientes, pueden ser diferentes para ambos estilos \n"
   ]
  },
  {
   "cell_type": "markdown",
   "metadata": {},
   "source": [
    "## Ejercicio 1:  Datos de la estación meteorologica de Progreso, Yucatán\n",
    "\n",
    "Fuente:  https://smn.conagua.gob.mx/es/observando-el-tiempo/estaciones-meteorologicas-automaticas-ema-s"
   ]
  },
  {
   "cell_type": "code",
   "execution_count": 6,
   "metadata": {},
   "outputs": [],
   "source": [
    "df1= pd.read_csv(\"datos/Estacion_PROGRESO_90_dias_19Nov.csv\")"
   ]
  },
  {
   "cell_type": "code",
   "execution_count": 7,
   "metadata": {},
   "outputs": [
    {
     "data": {
      "text/plain": [
       "Index(['FechaLocal', 'FechaUTC', 'TemperaturaAire(C)', 'Precipitacion(mm)',\n",
       "       'HumedadRelativa(%)', 'PresionAtmosferica(hpa)', 'RadiacionSolar(W/m2)',\n",
       "       'DireccionViento(grados)', 'RapidezViento(km/h)',\n",
       "       'DireccionRafaga(grados)', 'RapidezRafaga(km/h)'],\n",
       "      dtype='object')"
      ]
     },
     "execution_count": 7,
     "metadata": {},
     "output_type": "execute_result"
    }
   ],
   "source": [
    "df1.columns"
   ]
  },
  {
   "cell_type": "code",
   "execution_count": 24,
   "metadata": {},
   "outputs": [
    {
     "data": {
      "text/html": [
       "<div>\n",
       "<style scoped>\n",
       "    .dataframe tbody tr th:only-of-type {\n",
       "        vertical-align: middle;\n",
       "    }\n",
       "\n",
       "    .dataframe tbody tr th {\n",
       "        vertical-align: top;\n",
       "    }\n",
       "\n",
       "    .dataframe thead th {\n",
       "        text-align: right;\n",
       "    }\n",
       "</style>\n",
       "<table border=\"1\" class=\"dataframe\">\n",
       "  <thead>\n",
       "    <tr style=\"text-align: right;\">\n",
       "      <th></th>\n",
       "      <th>FechaLocal</th>\n",
       "      <th>FechaUTC</th>\n",
       "      <th>TemperaturaAire(C)</th>\n",
       "      <th>Precipitacion(mm)</th>\n",
       "      <th>HumedadRelativa(%)</th>\n",
       "      <th>PresionAtmosferica(hpa)</th>\n",
       "      <th>RadiacionSolar(W/m2)</th>\n",
       "      <th>DireccionViento(grados)</th>\n",
       "      <th>RapidezViento(km/h)</th>\n",
       "      <th>DireccionRafaga(grados)</th>\n",
       "      <th>RapidezRafaga(km/h)</th>\n",
       "    </tr>\n",
       "  </thead>\n",
       "  <tbody>\n",
       "    <tr>\n",
       "      <th>0</th>\n",
       "      <td>19/11/2020 15:20</td>\n",
       "      <td>19/11/2020 21:20</td>\n",
       "      <td>28</td>\n",
       "      <td>0</td>\n",
       "      <td>72</td>\n",
       "      <td>1017.0</td>\n",
       "      <td>226.0</td>\n",
       "      <td>59.0</td>\n",
       "      <td>28.0</td>\n",
       "      <td>115.0</td>\n",
       "      <td>46.0</td>\n",
       "    </tr>\n",
       "    <tr>\n",
       "      <th>1</th>\n",
       "      <td>19/11/2020 15:10</td>\n",
       "      <td>19/11/2020 21:10</td>\n",
       "      <td>28</td>\n",
       "      <td>0</td>\n",
       "      <td>73</td>\n",
       "      <td>1017.0</td>\n",
       "      <td>445.0</td>\n",
       "      <td>59.0</td>\n",
       "      <td>27.0</td>\n",
       "      <td>103.0</td>\n",
       "      <td>43.0</td>\n",
       "    </tr>\n",
       "    <tr>\n",
       "      <th>2</th>\n",
       "      <td>19/11/2020 15:00</td>\n",
       "      <td>19/11/2020 21:00</td>\n",
       "      <td>28</td>\n",
       "      <td>0</td>\n",
       "      <td>74</td>\n",
       "      <td>1017.0</td>\n",
       "      <td>475.0</td>\n",
       "      <td>60.0</td>\n",
       "      <td>28.0</td>\n",
       "      <td>97.0</td>\n",
       "      <td>53.0</td>\n",
       "    </tr>\n",
       "    <tr>\n",
       "      <th>3</th>\n",
       "      <td>19/11/2020 14:50</td>\n",
       "      <td>19/11/2020 20:50</td>\n",
       "      <td>28</td>\n",
       "      <td>0</td>\n",
       "      <td>75</td>\n",
       "      <td>1017.0</td>\n",
       "      <td>359.0</td>\n",
       "      <td>59.0</td>\n",
       "      <td>27.0</td>\n",
       "      <td>94.0</td>\n",
       "      <td>51.0</td>\n",
       "    </tr>\n",
       "    <tr>\n",
       "      <th>4</th>\n",
       "      <td>19/11/2020 14:40</td>\n",
       "      <td>19/11/2020 20:40</td>\n",
       "      <td>28</td>\n",
       "      <td>0</td>\n",
       "      <td>74</td>\n",
       "      <td>1017.0</td>\n",
       "      <td>550.0</td>\n",
       "      <td>63.0</td>\n",
       "      <td>27.0</td>\n",
       "      <td>99.0</td>\n",
       "      <td>48.0</td>\n",
       "    </tr>\n",
       "  </tbody>\n",
       "</table>\n",
       "</div>"
      ],
      "text/plain": [
       "         FechaLocal          FechaUTC  TemperaturaAire(C)  Precipitacion(mm)  \\\n",
       "0  19/11/2020 15:20  19/11/2020 21:20                  28                  0   \n",
       "1  19/11/2020 15:10  19/11/2020 21:10                  28                  0   \n",
       "2  19/11/2020 15:00  19/11/2020 21:00                  28                  0   \n",
       "3  19/11/2020 14:50  19/11/2020 20:50                  28                  0   \n",
       "4  19/11/2020 14:40  19/11/2020 20:40                  28                  0   \n",
       "\n",
       "   HumedadRelativa(%)  PresionAtmosferica(hpa)  RadiacionSolar(W/m2)  \\\n",
       "0                  72                   1017.0                 226.0   \n",
       "1                  73                   1017.0                 445.0   \n",
       "2                  74                   1017.0                 475.0   \n",
       "3                  75                   1017.0                 359.0   \n",
       "4                  74                   1017.0                 550.0   \n",
       "\n",
       "   DireccionViento(grados)  RapidezViento(km/h)  DireccionRafaga(grados)  \\\n",
       "0                     59.0                 28.0                    115.0   \n",
       "1                     59.0                 27.0                    103.0   \n",
       "2                     60.0                 28.0                     97.0   \n",
       "3                     59.0                 27.0                     94.0   \n",
       "4                     63.0                 27.0                     99.0   \n",
       "\n",
       "   RapidezRafaga(km/h)  \n",
       "0                 46.0  \n",
       "1                 43.0  \n",
       "2                 53.0  \n",
       "3                 51.0  \n",
       "4                 48.0  "
      ]
     },
     "execution_count": 24,
     "metadata": {},
     "output_type": "execute_result"
    }
   ],
   "source": [
    "df1.head()"
   ]
  },
  {
   "cell_type": "markdown",
   "metadata": {},
   "source": [
    "<div class=\"alert alert-success\">\n",
    "\n",
    "1. Considerando todos los datos hacer una grafica de dispersión para la Temperatura de Aire (en el eje Y) y la Humadad Relativa (en el eje X) \n",
    "</ul>\n",
    "</div>"
   ]
  },
  {
   "cell_type": "code",
   "execution_count": 9,
   "metadata": {},
   "outputs": [],
   "source": [
    "temp = df1['TemperaturaAire(C)'].values\n",
    "hum = df1['HumedadRelativa(%)'].values"
   ]
  },
  {
   "cell_type": "code",
   "execution_count": 15,
   "metadata": {},
   "outputs": [
    {
     "data": {
      "text/plain": [
       "array([28, 28, 28, ..., 32, 32, 32], dtype=int64)"
      ]
     },
     "execution_count": 15,
     "metadata": {},
     "output_type": "execute_result"
    }
   ],
   "source": [
    "temp"
   ]
  },
  {
   "cell_type": "code",
   "execution_count": 11,
   "metadata": {},
   "outputs": [
    {
     "data": {
      "text/plain": [
       "38"
      ]
     },
     "execution_count": 11,
     "metadata": {},
     "output_type": "execute_result"
    }
   ],
   "source": [
    "df1['TemperaturaAire(C)'].max()"
   ]
  },
  {
   "cell_type": "code",
   "execution_count": 17,
   "metadata": {},
   "outputs": [
    {
     "data": {
      "text/plain": [
       "100"
      ]
     },
     "execution_count": 17,
     "metadata": {},
     "output_type": "execute_result"
    }
   ],
   "source": [
    "df1['HumedadRelativa(%)'].max()"
   ]
  },
  {
   "cell_type": "code",
   "execution_count": 21,
   "metadata": {},
   "outputs": [
    {
     "data": {
      "image/png": "[encoded data removed]",
      "text/plain": [
       "<Figure size 1000x600 with 1 Axes>"
      ]
     },
     "metadata": {},
     "output_type": "display_data"
    }
   ],
   "source": [
    "plt.figure(figsize=(10,6))  \n",
    "plt.plot(hum, temp, marker = '.', linestyle = 'none' )\n",
    "\n",
    "# Etiqueta de los ejes\n",
    "plt.xlabel('Humedad Relativa')\n",
    "plt.ylabel('Temperatura de Aire')\n",
    "\n",
    "#Titulo de la figura\n",
    "plt.title('Temperatura vs Humedad Relativa')\n",
    "\n",
    "\n",
    "\n",
    "plt.show()"
   ]
  },
  {
   "cell_type": "markdown",
   "metadata": {},
   "source": [
    "<div class=\"alert alert-success\">\n",
    "    \n",
    "2. Considerando todos los datos, hacer un histograma de los valores de la Rapidez Viento \n",
    "    \n",
    "</div> "
   ]
  },
  {
   "cell_type": "code",
   "execution_count": 38,
   "metadata": {},
   "outputs": [
    {
     "data": {
      "text/plain": [
       "array([28., 27., 28., ..., 16., 16., 16.])"
      ]
     },
     "execution_count": 38,
     "metadata": {},
     "output_type": "execute_result"
    }
   ],
   "source": [
    "rapidez = df1['RapidezViento(km/h)'].values\n",
    "rapidez"
   ]
  },
  {
   "cell_type": "code",
   "execution_count": 48,
   "metadata": {},
   "outputs": [
    {
     "data": {
      "text/plain": [
       "RapidezViento(km/h)\n",
       "0.0      46\n",
       "2.0      62\n",
       "3.0     218\n",
       "4.0     421\n",
       "5.0     600\n",
       "6.0     656\n",
       "7.0     456\n",
       "8.0     700\n",
       "9.0     672\n",
       "10.0    644\n",
       "11.0    448\n",
       "12.0    712\n",
       "13.0    764\n",
       "14.0    874\n",
       "15.0    824\n",
       "16.0    498\n",
       "17.0    737\n",
       "18.0    663\n",
       "19.0    569\n",
       "20.0    266\n",
       "21.0    417\n",
       "22.0    316\n",
       "23.0    268\n",
       "24.0    233\n",
       "25.0    129\n",
       "26.0    147\n",
       "27.0    141\n",
       "28.0    109\n",
       "29.0     69\n",
       "30.0     62\n",
       "31.0     41\n",
       "32.0     29\n",
       "33.0     20\n",
       "34.0     10\n",
       "35.0     15\n",
       "36.0      6\n",
       "37.0      3\n",
       "38.0      2\n",
       "39.0      4\n",
       "41.0      1\n",
       "43.0      1\n",
       "45.0      1\n",
       "Name: FechaLocal, dtype: int64"
      ]
     },
     "execution_count": 48,
     "metadata": {},
     "output_type": "execute_result"
    }
   ],
   "source": [
    "df1.groupby('RapidezViento(km/h)')['FechaLocal'].count()"
   ]
  },
  {
   "cell_type": "code",
   "execution_count": 49,
   "metadata": {},
   "outputs": [
    {
     "data": {
      "image/png": "[encoded data removed]",
      "text/plain": [
       "<Figure size 640x480 with 1 Axes>"
      ]
     },
     "metadata": {},
     "output_type": "display_data"
    }
   ],
   "source": [
    "plt.hist(rapidez, 45, density = False, facecolor='green')\n",
    "plt.title('Histograma Rapidez de Viento')\n",
    "plt.xlabel('Velocidad')\n",
    "plt.ylabel('Cantidad de mediciones')\n",
    "plt.grid()\n",
    "plt.show()"
   ]
  },
  {
   "cell_type": "markdown",
   "metadata": {},
   "source": [
    "# Ejercicio 2: Incendios en México"
   ]
  },
  {
   "cell_type": "code",
   "execution_count": null,
   "metadata": {},
   "outputs": [],
   "source": [
    "df2= pd.read_csv(\"datos/Serie_historica_anual_incendios_2017.csv\")"
   ]
  },
  {
   "cell_type": "markdown",
   "metadata": {},
   "source": [
    "<div class=\"alert alert-success\">\n",
    "    \n",
    "1. Utilizar una grafica de barras para comparar el total de hectáreas afectadas para los 5 estados más afectados \n",
    "    \n",
    "</div> "
   ]
  },
  {
   "cell_type": "markdown",
   "metadata": {},
   "source": [
    "<div class=\"alert alert-success\">\n",
    "    \n",
    "2. Utilizar una grafica de barras para comparar el total de hectáreas afectadas para Yucatán para los meses: abril, mayo, junio, julio y agosto \n",
    "    \n",
    "</div> "
   ]
  },
  {
   "cell_type": "markdown",
   "metadata": {},
   "source": [
    "<div class=\"alert alert-success\">\n",
    "    \n",
    "3. Considerando todos los datos, hacer un histograma de la duración de los incendios \n",
    "    \n",
    "</div> "
   ]
  },
  {
   "cell_type": "markdown",
   "metadata": {},
   "source": [
    "<div class=\"alert alert-success\">\n",
    "    \n",
    "4. Considerando todos los datos, hacer una grafica de dispersión entre la duración (eje X) y el total de hectáreas (eje Y)\n",
    "    \n",
    "</div> "
   ]
  },
  {
   "cell_type": "markdown",
   "metadata": {},
   "source": [
    "# Ejercicio 3: Pacientes confirmados con Covid en México\n"
   ]
  },
  {
   "cell_type": "markdown",
   "metadata": {},
   "source": [
    "Fuente: https://datos.covid-19.conacyt.mx/#DownZCSV"
   ]
  },
  {
   "cell_type": "code",
   "execution_count": null,
   "metadata": {},
   "outputs": [],
   "source": [
    "df3= pd.read_csv(\"datos/Casos_Diarios_Estado_Nacional_Confirmados_20201129.csv\")"
   ]
  },
  {
   "cell_type": "markdown",
   "metadata": {},
   "source": [
    "<div class=\"alert alert-success\">\n",
    "    \n",
    "1. Hacer una grafica de barras comparando todos los meses, considerando el total nacional (por mes) \n",
    "    \n",
    "</div> "
   ]
  },
  {
   "cell_type": "markdown",
   "metadata": {},
   "source": [
    "<div class=\"alert alert-success\">\n",
    "    \n",
    "2. Hacer una grafica de barras comparando  los meses de agosto, septiembre, octubre y noviembre, considerando solo las entidades de Yucatán, Distrito Federal  y Jalisco\n",
    "    \n",
    "</div> "
   ]
  },
  {
   "cell_type": "code",
   "execution_count": null,
   "metadata": {},
   "outputs": [],
   "source": []
  },
  {
   "cell_type": "code",
   "execution_count": null,
   "metadata": {},
   "outputs": [],
   "source": []
  }
 ],
 "metadata": {
  "kernelspec": {
   "display_name": "Python 3 (ipykernel)",
   "language": "python",
   "name": "python3"
  },
  "language_info": {
   "codemirror_mode": {
    "name": "ipython",
    "version": 3
   },
   "file_extension": ".py",
   "mimetype": "text/x-python",
   "name": "python",
   "nbconvert_exporter": "python",
   "pygments_lexer": "ipython3",
   "version": "3.7.7"
  }
 },
 "nbformat": 4,
 "nbformat_minor": 4
}
