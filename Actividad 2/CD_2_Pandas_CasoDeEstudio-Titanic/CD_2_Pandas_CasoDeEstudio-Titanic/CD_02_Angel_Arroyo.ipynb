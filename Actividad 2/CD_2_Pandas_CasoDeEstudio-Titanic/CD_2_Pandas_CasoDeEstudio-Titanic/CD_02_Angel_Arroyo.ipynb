{
 "cells": [
  {
   "cell_type": "markdown",
   "metadata": {},
   "source": [
    "<!--Información del curso-->\n",
    "<img align=\"left\" style=\"padding-right:10px;\" src=\"figuras/logo_ciencia_datos.png\">"
   ]
  },
  {
   "cell_type": "markdown",
   "metadata": {},
   "source": [
    "<center><h1 style=\"font-size:2em;color:#2467C0\">  Caso de estudio </h1></center>\n",
    "\n",
    "<center><h4 style=\"font-size:2em;color:#840700\">  Pasajeros del Titanic  </h4></center>\n",
    "\n",
    "<br>\n",
    "<table>\n",
    "<col width=\"550\">\n",
    "<col width=\"450\">\n",
    "<tr>\n",
    "<td><img src=\"figuras/titanic.jpg\" align=\"middle\" style=\"width:500px\"/></td>\n",
    "<td align=\"left-align\">\n",
    "\n",
    "EL **Titanic** fue un transatlántico británico, el mayor barco del mundo al finalizar su construcción, que se hundió en la noche del 14 a la madrugada del 15 de abril de 1912 durante su viaje inaugural desde Southampton a Nueva York. Solo sobrevivieron 711 de las 2208 personas que iban a bordo (contando pasajeros y tripulación)\n",
    "\n",
    "En este ejemplo, analizaremos información de los pasajeros del Titanic utilizando la librerá Pandas.\n",
    "\n",
    "    \n",
    "<br>\n",
    "</td>\n",
    "</tr>\n",
    "</table>"
   ]
  },
  {
   "cell_type": "markdown",
   "metadata": {},
   "source": [
    "# Librerías"
   ]
  },
  {
   "cell_type": "markdown",
   "metadata": {
    "collapsed": true
   },
   "source": [
    "Cargamos las bibliotecas que necesitamos "
   ]
  },
  {
   "cell_type": "code",
   "execution_count": 38,
   "metadata": {},
   "outputs": [],
   "source": [
    "import csv\n",
    "import matplotlib.pyplot as plt\n",
    "import math\n",
    "import numpy as np"
   ]
  },
  {
   "cell_type": "markdown",
   "metadata": {},
   "source": [
    "# Cargamos los datos"
   ]
  },
  {
   "cell_type": "markdown",
   "metadata": {},
   "source": [
    "Descripción de las columnas : \n",
    "* Survival - Supervivencia  (0 = No; 1 = Si).  \n",
    "* Pclass - Clase (1 = 1st; 2 = 2nd; 3 = 3rd)\n",
    "* Name - Nombre\n",
    "* Sex - Sexo\n",
    "* Age - Edad\n",
    "* Sibsp - Número de hermanos / cónyuges a bordo\n",
    "* Parch - Número de padres / niños a bordo\n",
    "* Ticket - Número de ticket\n",
    "* Fare - Tarifa \n",
    "* Cabin - Número de cabina\n",
    "* Embarked - Puerto de embarque (C = Cherbourg; Q = Queenstown; S = Southampton)"
   ]
  },
  {
   "cell_type": "code",
   "execution_count": null,
   "metadata": {},
   "outputs": [],
   "source": [
    "#Leer el archivo datos/titanic_datos.txt"
   ]
  },
  {
   "cell_type": "code",
   "execution_count": null,
   "metadata": {},
   "outputs": [],
   "source": [
    "with open ('datos/titanic_datos.txt') as csvarchivo:\n",
    "    lector = csv.reader(csvarchivo)\n",
    "    next(lector)\n",
    "    for linea in lector:\n",
    "        print(linea[3])\n",
    "    \n"
   ]
  },
  {
   "cell_type": "markdown",
   "metadata": {},
   "source": [
    "<div class=\"alert alert-info\">\n",
    " <ul>\n",
    "  <li>Encuentre el número de pasajeros</li>\n",
    "</ul> \n",
    "\n",
    "</div>"
   ]
  },
  {
   "cell_type": "code",
   "execution_count": 85,
   "metadata": {},
   "outputs": [
    {
     "name": "stdout",
     "output_type": "stream",
     "text": [
      "891\n"
     ]
    }
   ],
   "source": [
    "contador_personas=0\n",
    "with open ('datos/titanic_datos.txt') as csvarchivo:\n",
    "    lector = csv.reader(csvarchivo)\n",
    "    next(lector)\n",
    "    for linea in lector:\n",
    "        contador_personas = contador_personas + 1\n",
    "        \n",
    "print (contador_personas)"
   ]
  },
  {
   "cell_type": "markdown",
   "metadata": {},
   "source": [
    "<div class=\"alert alert-info\">\n",
    " <ul>\n",
    "  <li>Encuentre el número de sobrevivientes</li>\n",
    "</ul> \n",
    "\n",
    "</div>"
   ]
  },
  {
   "cell_type": "code",
   "execution_count": null,
   "metadata": {},
   "outputs": [],
   "source": [
    "contador_sobrevivientes=0\n",
    "with open ('datos/titanic_datos.txt') as csvarchivo:\n",
    "    lector = csv.reader(csvarchivo)\n",
    "    next(lector)\n",
    "    for linea in lector:\n",
    "        #print(linea[1])\n",
    "        if linea[1] == '1':\n",
    "            contador_sobrevivientes = contador_sobrevivientes + 1\n",
    "            \n",
    "print('Numero de sobrevivientes', contador_sobrevivientes)\n",
    "        \n",
    "\n"
   ]
  },
  {
   "cell_type": "markdown",
   "metadata": {},
   "source": [
    "<div class=\"alert alert-info\">\n",
    " <ul>\n",
    "  <li>Encuentre el numero de pasajeros por clase </li>\n",
    "</ul> \n",
    "\n",
    "</div>"
   ]
  },
  {
   "cell_type": "code",
   "execution_count": 59,
   "metadata": {},
   "outputs": [
    {
     "name": "stdout",
     "output_type": "stream",
     "text": [
      "Numero primera clase: 216\n",
      "Numero segunda clase: 184\n",
      "Numero tercera clase: 491\n"
     ]
    }
   ],
   "source": [
    "contador_C1=0\n",
    "contador_C2=0\n",
    "contador_C3=0\n",
    "\n",
    "with open ('datos/titanic_datos.txt') as csvarchivo:\n",
    "    lector = csv.reader(csvarchivo)\n",
    "    next(lector)\n",
    "    for linea in lector:\n",
    "        if linea[2] == '1':\n",
    "            contador_C1 = contador_C1 + 1\n",
    "        if linea[2] == '2':\n",
    "            contador_C2 = contador_C2 + 1\n",
    "        if linea[2] == '3':\n",
    "            contador_C3 = contador_C3 + 1\n",
    "            \n",
    "print ('Numero primera clase:', contador_C1)\n",
    "print ('Numero segunda clase:', contador_C2)\n",
    "print ('Numero tercera clase:', contador_C3)\n"
   ]
  },
  {
   "cell_type": "markdown",
   "metadata": {},
   "source": [
    "<div class=\"alert alert-info\">\n",
    " <ul>\n",
    "  <li>Encuentre el numero de pasajeros que tengan como nombre o apellido el string 'William'</li>\n",
    "</ul> \n",
    "\n",
    "</div>"
   ]
  },
  {
   "cell_type": "code",
   "execution_count": null,
   "metadata": {},
   "outputs": [],
   "source": [
    "contador_William=0\n",
    "with open ('datos/titanic_datos.txt') as csvarchivo:\n",
    "    lector = csv.reader(csvarchivo)\n",
    "    next(lector)\n",
    "    for linea in lector:\n",
    "        #print ('Apellido:', linea[3], ', Nombre', linea[4])\n",
    "        if ('William' in linea[3]) or ('William' in linea[4]):\n",
    "            contador_William = contador_William + 1\n",
    "        \n",
    "print ('Numero de williams:', contador_William)\n"
   ]
  },
  {
   "cell_type": "markdown",
   "metadata": {},
   "source": [
    "<div class=\"alert alert-success\">\n",
    " <ul>\n",
    "  <li>1. Encuentre el número de mujeres y hombres. ¿Cuál era la probabilidad de supervivencia de una persona? ¿Cuál era la probabilidad de supervivencia de un hombre y el de una mujer?</li>\n",
    "</ul> \n",
    "\n",
    "</div>"
   ]
  },
  {
   "cell_type": "code",
   "execution_count": 28,
   "metadata": {},
   "outputs": [
    {
     "name": "stdout",
     "output_type": "stream",
     "text": [
      "Cantidad hombres: 577\n",
      "Cantidad mujeres: 314\n",
      "Porcentaje de supervivencia de una persona:  38.38383838383838 %\n",
      "Porcentaje de supervivencia de una mujer: 74.20382165605096 %\n",
      "Porcentaje de supervivencia de un hombre: 18.890814558058924 %\n"
     ]
    }
   ],
   "source": [
    "contador_mujeres = 0\n",
    "contador_hombres = 0\n",
    "contador_personas= 0\n",
    "contador_sobrevivientes = 0\n",
    "contadormujersurvive = 0\n",
    "contadorhombresurvive = 0\n",
    "\n",
    "with open ('datos/titanic_datos.txt') as csvarchivo:\n",
    "    lector = csv.reader(csvarchivo)\n",
    "    next(lector)\n",
    "    for linea in lector:\n",
    "        #Cuenta de mujeres y hombres\n",
    "        if 'female' in linea[5]:\n",
    "            contador_mujeres = contador_mujeres + 1\n",
    "        else:\n",
    "            contador_hombres = contador_hombres + 1\n",
    "            \n",
    "        #Probabilidad de supervivencia de una persona\n",
    "        if linea[1] == '1':\n",
    "            contador_sobrevivientes = contador_sobrevivientes + 1\n",
    "            \n",
    "        #Contador de personas\n",
    "        contador_personas = contador_personas + 1\n",
    "        \n",
    "        #Probabilidad de supervivencia en mujeres\n",
    "        if ('female' in linea [5]) & ('1' in linea[1]):\n",
    "            contadormujersurvive = contadormujersurvive + 1\n",
    "        \n",
    "        #Probabilidad de supervivencia en hombres\n",
    "        \n",
    "        if ('female' not in linea[5]) & ('1' in linea[1]):\n",
    "            contadorhombresurvive = contadorhombresurvive + 1 \n",
    "        \n",
    "print ('Cantidad hombres:',  contador_hombres)\n",
    "print ('Cantidad mujeres:', contador_mujeres)\n",
    "print ('Porcentaje de supervivencia de una persona: ', contador_sobrevivientes*100/contador_personas, '%')\n",
    "print ('Porcentaje de supervivencia de una mujer:', contadormujersurvive*100/contador_mujeres, '%')\n",
    "print ('Porcentaje de supervivencia de un hombre:', contadorhombresurvive*100/contador_hombres, '%')\n",
    "# Codigo para verificar que haya obtenido los valores correctos: print (contadorhombresurvive, ' y ', contadormujersurvive)"
   ]
  },
  {
   "cell_type": "markdown",
   "metadata": {},
   "source": [
    "<div class=\"alert alert-success\">\n",
    " <ul>\n",
    "  <li>2. ¿Cuál era la edad promedio?¿Cual era la edad de la persona más grande y la de la más joven? ¿Cuáles eran las edades de las 5 personas mas grandes?.  </li>\n",
    "</ul> \n",
    "\n",
    "</div>"
   ]
  },
  {
   "cell_type": "code",
   "execution_count": 22,
   "metadata": {},
   "outputs": [
    {
     "name": "stdout",
     "output_type": "stream",
     "text": [
      "La edad promedio es: 29.69911764705882\n",
      "La edad de la persona más grande es:  80\n",
      "La edad de la persona más joven es:  1\n",
      "Las edades de las personas más grandes son:  [80, 71, 66, 58, 54]\n"
     ]
    }
   ],
   "source": [
    "edad_promedio=0\n",
    "count_promedio=0\n",
    "maxedad = -math.inf\n",
    "minedad = math.inf\n",
    "maxedades = [-math.inf] * 5\n",
    "\n",
    "with open(\"datos/titanic_datos.txt\") as csvarchivo:\n",
    "    lector=csv.reader(csvarchivo)\n",
    "    next(lector)\n",
    "    for linea in lector:\n",
    "        #Edad Promedio\n",
    "        try:\n",
    "            edad_promedio+=float(linea[6])\n",
    "            count_promedio+=1\n",
    "        except:\n",
    "            pass\n",
    "        #Persona más grande\n",
    "        try:\n",
    "            if int(linea[6]) > maxedad:\n",
    "                maxedad = int(linea[6])\n",
    "        except:\n",
    "            pass\n",
    "        #Persona más joven\n",
    "        try:\n",
    "            if int(linea[6]) < minedad:\n",
    "                minedad = int(linea[6])\n",
    "        except:\n",
    "            pass\n",
    "        #5 Personas más grandes\n",
    "        try:\n",
    "            if int(linea[6]) > maxedades[0]:\n",
    "                maxedades[4] = maxedades[3]\n",
    "                maxedades[3] = maxedades[2]\n",
    "                maxedades[2] = maxedades[1]\n",
    "                maxedades[1] = maxedades[0]\n",
    "                maxedades[0] = int(linea[6])\n",
    "        except:\n",
    "            pass\n",
    "    \n",
    "print(\"La edad promedio es:\",edad_promedio/count_promedio)\n",
    "print (\"La edad de la persona más grande es: \", maxedad)\n",
    "print (\"La edad de la persona más joven es: \", minedad)\n",
    "print (\"Las edades de las personas más grandes son: \", maxedades)\n",
    "\n",
    "#PREGUNTAR COMO HACER MAS EFICIENTE USANDO N\n",
    "#\n",
    "#PREGUNTAR POR isdigit()#"
   ]
  },
  {
   "cell_type": "markdown",
   "metadata": {},
   "source": [
    "<div class=\"alert alert-success\">\n",
    " <ul>\n",
    "  <li> 3. ¿Cuál era la probabilidad de supervivencia de alguien menor a 25 años?  </li>\n",
    "</ul> \n",
    "\n",
    "</div>"
   ]
  },
  {
   "cell_type": "code",
   "execution_count": 34,
   "metadata": {},
   "outputs": [
    {
     "name": "stdout",
     "output_type": "stream",
     "text": [
      "La cantidad de personas menores de 25 es de: 267\n",
      "La cantidad de personas menores de 25 que sobrevivieron es de: 111\n",
      "La probabilidad de supervivencia de una persona menor a 25 años es de:  41.57303370786517 %\n"
     ]
    }
   ],
   "source": [
    "countmenorde25sob = 0\n",
    "countmenorde25 = 0\n",
    "\n",
    "with open(\"datos/titanic_datos.txt\") as csvarchivo:\n",
    "    lector=csv.reader(csvarchivo)\n",
    "    next(lector)\n",
    "    for linea in lector:\n",
    "        #Contador de personas menores de 25\n",
    "        try:\n",
    "            if int(linea[6]) < 25:\n",
    "                countmenorde25 = countmenorde25 + 1\n",
    "        except:\n",
    "            pass\n",
    "        \n",
    "        #Contador de supervivientes menores de 25\n",
    "        try:\n",
    "            if ('1' in linea[1]) & (int(linea[6]) < 25):\n",
    "                countmenorde25sob = countmenorde25sob + 1\n",
    "        except:\n",
    "            pass\n",
    "        \n",
    "\n",
    "print('La cantidad de personas menores de 25 es de:', countmenorde25)\n",
    "print('La cantidad de personas menores de 25 que sobrevivieron es de:', countmenorde25sob)\n",
    "print('La probabilidad de supervivencia de una persona menor a 25 años es de: ', countmenorde25sob*100/countmenorde25, '%')"
   ]
  },
  {
   "cell_type": "markdown",
   "metadata": {},
   "source": [
    "<div class=\"alert alert-success\">\n",
    " <ul>\n",
    "  <li> 4. Encuentre en número de personas que embarcaron en Cherbourg, Queenstown y en Southampton.  </li>\n",
    "</ul> \n",
    "\n",
    "</div>"
   ]
  },
  {
   "cell_type": "code",
   "execution_count": 37,
   "metadata": {},
   "outputs": [
    {
     "name": "stdout",
     "output_type": "stream",
     "text": [
      "Cantidad de pasajeros que embarcaron en Cherbourg:  168\n",
      "Cantidad de pasajeros que embarcaron en Queenstown:  77\n",
      "Cantidad de pasajeros que embarcaron en Southampton:  644\n"
     ]
    }
   ],
   "source": [
    "pasajerosc = 0\n",
    "pasajerosq = 0\n",
    "pasajeross = 0 \n",
    "\n",
    "with open(\"datos/titanic_datos.txt\") as csvarchivo:\n",
    "    lector=csv.reader(csvarchivo)\n",
    "    next(lector)\n",
    "    for linea in lector:\n",
    "        \n",
    "        #Contador de pasajeros por lugar de embarcamiento\n",
    "        if 'C' in linea[12]:\n",
    "            pasajerosc = pasajerosc + 1\n",
    "        if 'Q' in linea[12]:\n",
    "            pasajerosq = pasajerosq + 1\n",
    "        if 'S' in linea[12]:\n",
    "            pasajeross = pasajeross + 1\n",
    "            \n",
    "print('Cantidad de pasajeros que embarcaron en Cherbourg: ', pasajerosc)\n",
    "print('Cantidad de pasajeros que embarcaron en Queenstown: ', pasajerosq)\n",
    "print('Cantidad de pasajeros que embarcaron en Southampton: ', pasajeross)"
   ]
  },
  {
   "cell_type": "markdown",
   "metadata": {},
   "source": [
    "<div class=\"alert alert-success\">\n",
    " <ul>\n",
    "  <li> 5. Con los datos del ejercicio anterior haga una grafica de barras </li>\n",
    "</ul> \n",
    "\n",
    "</div>"
   ]
  },
  {
   "cell_type": "code",
   "execution_count": 87,
   "metadata": {},
   "outputs": [
    {
     "data": {
      "image/png": "[encoded data removed]",
      "text/plain": [
       "<Figure size 640x480 with 1 Axes>"
      ]
     },
     "metadata": {},
     "output_type": "display_data"
    }
   ],
   "source": [
    "pasajerosc = 0\n",
    "pasajerosq = 0\n",
    "pasajeross = 0 \n",
    "\n",
    "\n",
    "with open(\"datos/titanic_datos.txt\") as csvarchivo:\n",
    "    lector=csv.reader(csvarchivo)\n",
    "    next(lector)\n",
    "    for linea in lector:\n",
    "        \n",
    "        #Contador de pasajeros por lugar de embarcamiento\n",
    "        if 'C' in linea[12]:\n",
    "            pasajerosc = pasajerosc + 1\n",
    "        if 'Q' in linea[12]:\n",
    "            pasajerosq = pasajerosq + 1\n",
    "        if 'S' in linea[12]:\n",
    "            pasajeross = pasajeross + 1\n",
    "            \n",
    "        #Realizar la grafica PREGUNTAR POR LAS FUNCIONES\n",
    "lugares = ('Cherbourg', 'Queenstown', 'Southampton')\n",
    "posy = np.arange(len(lugares))\n",
    "cantidad = [pasajerosc, pasajerosq, pasajeross]\n",
    "\n",
    "plt.bar (posy, cantidad)\n",
    "plt.xticks (posy, lugares)\n",
    "plt.ylabel ('Cantidad de pasajeros')\n",
    "\n",
    "plt.show()"
   ]
  },
  {
   "cell_type": "markdown",
   "metadata": {},
   "source": [
    "<div class=\"alert alert-success\">\n",
    " <ul>\n",
    "  <li> 6. ¿Cuál hubiera sido la ganancia total? Considere que el día del embarque se le pedía un impuesto a cada tripulante dependiendo de su clase (3era = 0.5 pounds, 2da = 15 pounds, 1era=40 pounds).  Defina una función llamada conversión que reciba dos parámetros (la clase y el costo del ticket) y  regrese el costo actual (USD). Exprese su resultados en USD  </li>\n",
    "</ul> \n",
    "\n",
    "</div>"
   ]
  },
  {
   "cell_type": "code",
   "execution_count": 64,
   "metadata": {},
   "outputs": [
    {
     "name": "stdout",
     "output_type": "stream",
     "text": [
      "La ganancia en USD fue de:  47600.55017399994\n"
     ]
    }
   ],
   "source": [
    "revenue = 0\n",
    "#Función\n",
    "def conversion(clase, costo):\n",
    "    if '3' in clase:\n",
    "        return (costo + 0.5)*1.18\n",
    "    if '2' in clase:\n",
    "        return (costo + 15)*1.18\n",
    "    if '1' in clase:\n",
    "        return (costo + 40)*1.18\n",
    "\n",
    "with open(\"datos/titanic_datos.txt\") as csvarchivo:\n",
    "    lector=csv.reader(csvarchivo)\n",
    "    next(lector)\n",
    "    for linea in lector:\n",
    "        #Utilización de la función con los datos de clase y costo del csv\n",
    "        revenue += conversion(str(linea[2]), float(linea[10]))\n",
    "    \n",
    "print ('La ganancia en USD fue de: ', revenue)"
   ]
  },
  {
   "cell_type": "code",
   "execution_count": 65,
   "metadata": {},
   "outputs": [
    {
     "name": "stdout",
     "output_type": "stream",
     "text": [
      "47600.55017399995\n"
     ]
    }
   ],
   "source": [
    "#VERIFICACION CON SUMA POR LINEA 10\n",
    "\n",
    "revenue = 0\n",
    "with open(\"datos/titanic_datos.txt\") as csvarchivo:\n",
    "    lector=csv.reader(csvarchivo)\n",
    "    next(lector)\n",
    "    for linea in lector:\n",
    "         revenue += float(linea[10])\n",
    "print((revenue + 8640 + 2760 + 245.5)*1.18)"
   ]
  },
  {
   "cell_type": "markdown",
   "metadata": {},
   "source": [
    "<div class=\"alert alert-success\">\n",
    "\n",
    " <ul>\n",
    "  <li>7. ¿Cuál es la distribución por edad de los pasajeros de manera general, así como para hombres y mujeres? (Usando histogramas)</li>\n",
    "</ul> \n",
    "\n",
    "</div>"
   ]
  },
  {
   "cell_type": "code",
   "execution_count": 89,
   "metadata": {},
   "outputs": [
    {
     "data": {
      "image/png": "[encoded data removed]",
      "text/plain": [
       "<Figure size 640x480 with 1 Axes>"
      ]
     },
     "metadata": {},
     "output_type": "display_data"
    }
   ],
   "source": [
    "count1a15 = 0\n",
    "count16a30 = 0\n",
    "count31a45 = 0\n",
    "count46a60 = 0\n",
    "count61a75 = 0\n",
    "count76a90 = 0\n",
    "\n",
    "with open(\"datos/titanic_datos.txt\") as csvarchivo:\n",
    "    lector=csv.reader(csvarchivo)\n",
    "    next(lector)\n",
    "    for linea in lector:\n",
    "        #Contador pasajeros por rango de edades\n",
    "        try:\n",
    "            if 0 <= int(linea[6]) < 16 :\n",
    "                count1a15 += 1\n",
    "            if 16 <= int(linea[6]) < 31 :\n",
    "                count16a30 += 1\n",
    "            if 31 <= int(linea[6]) < 46 :\n",
    "                count31a45 += 1\n",
    "            if 46 <= int(linea[6]) < 61 :\n",
    "                count46a60 += 1\n",
    "            if 61 <= int(linea[6]) < 76 :\n",
    "                count61a75 += 1\n",
    "            if 76 <= int(linea[6]) < 91 :\n",
    "                count76a90 += 1\n",
    "        except:\n",
    "            pass\n",
    "        \n",
    "#print(count1a15+count16a30+count31a45+count46a60+count61a75+count76a90)\n",
    "\n",
    "#Realizar la grafica\n",
    "rangos = ('1 a 15', '16 a 30', '31 a 45', '46 a 60', '61 a 75', '76 a 90')\n",
    "posy = np.arange(len(rangos))\n",
    "cantidad = [count1a15, count16a30, count31a45, count46a60, count61a75, count76a90]\n",
    "\n",
    "plt.bar (posy, cantidad)\n",
    "plt.xticks (posy, rangos)\n",
    "plt.ylabel ('Cantidad de pasajeros')\n",
    "\n",
    "plt.show()\n"
   ]
  },
  {
   "cell_type": "markdown",
   "metadata": {},
   "source": [
    "<div class=\"alert alert-success\">\n",
    " \n",
    " <ul>\n",
    "  <li> 8. ¿Cómo difiere la tasa de supervivencia entre las diferentes clases del Titanic?</li>\n",
    "</ul> \n",
    "\n",
    "</div>"
   ]
  },
  {
   "cell_type": "code",
   "execution_count": 91,
   "metadata": {},
   "outputs": [
    {
     "name": "stdout",
     "output_type": "stream",
     "text": [
      "Porcentaje de supervivencia en primera clase:  62.96296296296296 %\n",
      "Porcentaje de supervivencia en segunda clase:  47.28260869565217 %\n",
      "Porcentaje de supervivencia en tercera clase:  24.236252545824847 %\n"
     ]
    }
   ],
   "source": [
    "contador_C1=0\n",
    "contador_C2=0\n",
    "contador_C3=0\n",
    "contadorsob_C1=0\n",
    "contadorsob_C2=0\n",
    "contadorsob_C3=0\n",
    "\n",
    "with open ('datos/titanic_datos.txt') as csvarchivo:\n",
    "    lector = csv.reader(csvarchivo)\n",
    "    next(lector)\n",
    "    for linea in lector:\n",
    "        #Contador de pasajeros por clase\n",
    "        if linea[2] == '1':\n",
    "            contador_C1 = contador_C1 + 1\n",
    "        if linea[2] == '2':\n",
    "            contador_C2 = contador_C2 + 1\n",
    "        if linea[2] == '3':\n",
    "            contador_C3 = contador_C3 + 1\n",
    "        #Contador de supervivientes por clase\n",
    "        if (linea[2] == '1') & (linea[1] == '1'):\n",
    "            contadorsob_C1 += 1\n",
    "        if (linea[2] == '2') & (linea[1] == '1'):\n",
    "            contadorsob_C2 += 1\n",
    "        if (linea[2] == '3') & (linea[1] == '1'):\n",
    "            contadorsob_C3 += 1\n",
    "\n",
    "print ('Porcentaje de supervivencia en primera clase: ', contadorsob_C1*100/contador_C1, '%' )\n",
    "print ('Porcentaje de supervivencia en segunda clase: ', contadorsob_C2*100/contador_C2, '%' )\n",
    "print ('Porcentaje de supervivencia en tercera clase: ', contadorsob_C3*100/contador_C3, '%' )"
   ]
  },
  {
   "cell_type": "markdown",
   "metadata": {},
   "source": [
    "\n",
    "\n",
    "<div class=\"alert alert-warning\">\n",
    "\n",
    "**Todas las funciones necesarias para analizar datos como los del ejemplo anterior, se explicarán a lo largo de esta unidad dedicada a la librería Pandas**\n",
    "\n",
    "</div>"
   ]
  },
  {
   "cell_type": "markdown",
   "metadata": {},
   "source": [
    "<img align=\"left\" width=\"800\"  float= \"none\" align=\"middle\" src=\"figuras/titanic2.png\">"
   ]
  },
  {
   "cell_type": "code",
   "execution_count": null,
   "metadata": {},
   "outputs": [],
   "source": []
  }
 ],
 "metadata": {
  "kernelspec": {
   "display_name": "Python 3 (ipykernel)",
   "language": "python",
   "name": "python3"
  },
  "language_info": {
   "codemirror_mode": {
    "name": "ipython",
    "version": 3
   },
   "file_extension": ".py",
   "mimetype": "text/x-python",
   "name": "python",
   "nbconvert_exporter": "python",
   "pygments_lexer": "ipython3",
   "version": "3.7.7"
  }
 },
 "nbformat": 4,
 "nbformat_minor": 4
}
