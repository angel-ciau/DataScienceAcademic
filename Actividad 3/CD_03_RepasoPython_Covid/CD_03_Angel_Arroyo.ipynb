{
 "cells": [
  {
   "cell_type": "markdown",
   "metadata": {},
   "source": [
    "<!--Información del curso-->\n",
    "<img align=\"left\" style=\"padding-right:10px;\" src=\"figuras/logo_cd.png\">"
   ]
  },
  {
   "cell_type": "markdown",
   "metadata": {},
   "source": [
    "<center><h1 style=\"font-size:2em;color:#2467C0\">  COVID-MEXICO 19-abril-2020  </h1></center>\n",
    "<br>\n",
    "<table>\n",
    "<col width=\"550\">\n",
    "<col width=\"450\">\n",
    "<tr>\n",
    "<td><img src=\"figuras/covid_mexico.png\" align=\"middle\" style=\"width:500\"/></td>\n",
    "<td>\n",
    "    \n",
    "A la fecha del 19 de abril del 2020 la República Mexicana contaba con 8 mil 261 contagios y 686 muertes a causa del COVID-19 de acuerdo con el informe de la Secretaría de Salud.\n",
    "    \n",
    "</td>\n",
    "</tr>\n",
    "</table>"
   ]
  },
  {
   "cell_type": "markdown",
   "metadata": {},
   "source": [
    "<div class=\"alert alert-success\">\n",
    "    \n",
    "**Ejericicio**\n",
    "    \n",
    "Completar la notebook utilizando los videos del siguiente link:\n",
    "    \n",
    "</div>\n",
    "\n",
    "\n",
    "```html\n",
    "\n",
    "https://www.youtube.com/playlist?list=PLP1pGkh-tN1DNtp-Hm-P7YmQaxVREWUHj\n",
    "\n",
    "```"
   ]
  },
  {
   "cell_type": "markdown",
   "metadata": {},
   "source": [
    "# 1. Pacientes, pacientes positivos, sospechosos y negativos"
   ]
  },
  {
   "cell_type": "code",
   "execution_count": 1,
   "metadata": {},
   "outputs": [
    {
     "name": "stdout",
     "output_type": "stream",
     "text": [
      "Numero de pacientes:  49570\n",
      "Numero de pacientes positivos:  8261\n",
      "Numero de pacientes negativos:  31170\n",
      "Numero de pacientes sospechosos:  10139\n"
     ]
    }
   ],
   "source": [
    "import csv\n",
    "\n",
    "file='datos/200419COVID19MEXICO.csv'\n",
    "num_pacientes=0\n",
    "num_positivos=0\n",
    "num_negativos = 0\n",
    "num_sospechosos = 0\n",
    "\n",
    "#enconding = 'utf-8'\n",
    "with open(file, encoding = 'utf-8') as csvfile:\n",
    "    lector = csv.reader(csvfile)\n",
    "    next(lector)\n",
    "    for linea in lector:\n",
    "        num_pacientes += 1\n",
    "        if linea[30] == '1':\n",
    "            num_positivos += 1\n",
    "        if linea[30] == '2':\n",
    "            num_negativos += 1\n",
    "        if linea[30] == '3':\n",
    "            num_sospechosos += 1\n",
    "        \n",
    "        \n",
    "#print(linea)\n",
    "print('Numero de pacientes: ', num_pacientes)\n",
    "print ('Numero de pacientes positivos: ', num_positivos)\n",
    "print ('Numero de pacientes negativos: ', num_negativos)\n",
    "print ('Numero de pacientes sospechosos: ', num_sospechosos)\n",
    "\n"
   ]
  },
  {
   "cell_type": "markdown",
   "metadata": {},
   "source": [
    "# 2. Defunciones"
   ]
  },
  {
   "cell_type": "code",
   "execution_count": 2,
   "metadata": {},
   "outputs": [
    {
     "name": "stdout",
     "output_type": "stream",
     "text": [
      "Numero de defunciones:  1288\n",
      "Numero de defunciones por covid:  686\n"
     ]
    }
   ],
   "source": [
    "import csv\n",
    "\n",
    "file='datos/200419COVID19MEXICO.csv'\n",
    "num_defunciones = 0\n",
    "num_defuncionescovid = 0\n",
    "\n",
    "#enconding = 'utf-8'\n",
    "with open(file, encoding = 'utf-8') as csvfile:\n",
    "    lector = csv.reader(csvfile)\n",
    "    next(lector)\n",
    "    for linea in lector:\n",
    "        if '9999-99-99' not in linea[12]:\n",
    "            num_defunciones += 1\n",
    "        if ('9999-99-99' not in linea[12]) & (linea[30] == '1'):\n",
    "            num_defuncionescovid += 1\n",
    "\n",
    "print('Numero de defunciones: ', num_defunciones)\n",
    "print('Numero de defunciones por covid: ', num_defuncionescovid)"
   ]
  },
  {
   "cell_type": "markdown",
   "metadata": {},
   "source": [
    "# 3. Información de estados"
   ]
  },
  {
   "cell_type": "code",
   "execution_count": 3,
   "metadata": {},
   "outputs": [
    {
     "name": "stdout",
     "output_type": "stream",
     "text": [
      "{'15': 877, '28': 127, '09': 2591, '31': 176, '12': 121, '19': 184, '30': 146, '21': 352, '27': 335, '22': 81, '14': 198, '02': 680, '01': 80, '13': 87, '03': 193, '18': 35, '25': 459, '05': 237, '08': 148, '26': 117, '23': 322, '24': 63, '29': 76, '11': 133, '07': 67, '10': 21, '16': 115, '17': 82, '20': 63, '04': 57, '32': 27, '06': 11}\n"
     ]
    }
   ],
   "source": [
    "import csv\n",
    "\n",
    "file='datos/200419COVID19MEXICO.csv'\n",
    "\n",
    "estados = {}\n",
    "\n",
    "#Diccionarios, estructura key y values\n",
    "with open(file, encoding = 'utf-8') as csvfile:\n",
    "    lector = csv.reader(csvfile)\n",
    "    next(lector)\n",
    "    for linea in lector:\n",
    "        if linea[30] == '1':\n",
    "            estados[linea[4]] = estados.get(linea[4], 0) + 1\n",
    "\n",
    "print (estados)\n",
    "            "
   ]
  },
  {
   "cell_type": "markdown",
   "metadata": {},
   "source": [
    "# 4. Total de hombres y mujeres con Covid"
   ]
  },
  {
   "cell_type": "code",
   "execution_count": 4,
   "metadata": {},
   "outputs": [
    {
     "name": "stdout",
     "output_type": "stream",
     "text": [
      "Hombres = 24306\n",
      "Hombres covid = 4789\n",
      "Mujeres = 25264\n",
      "Mujeres covid = 3472\n"
     ]
    }
   ],
   "source": [
    "import csv\n",
    "\n",
    "file='datos/200419COVID19MEXICO.csv'\n",
    "\n",
    "num_hombres = 0\n",
    "num_hombres_covid = 0\n",
    "num_mujeres = 0\n",
    "num_mujeres_covid = 0\n",
    "\n",
    "with open (file, 'r', encoding='utf-8') as csv_file:\n",
    "    lector=csv.reader(csv_file)\n",
    "    next(lector)\n",
    "    for linea in lector:\n",
    "        if linea[5] == '2':\n",
    "            num_hombres = num_hombres + 1\n",
    "            if linea[30] == '1':\n",
    "                num_hombres_covid = num_hombres_covid + 1\n",
    "        elif linea[5] == '1':\n",
    "            num_mujeres = num_mujeres + 1\n",
    "            if linea[30] == '1':\n",
    "                num_mujeres_covid = num_mujeres_covid + 1\n",
    "        \n",
    "print('Hombres =', num_hombres)\n",
    "print('Hombres covid =', num_hombres_covid)\n",
    "print('Mujeres =', num_mujeres)\n",
    "print('Mujeres covid =', num_mujeres_covid)"
   ]
  },
  {
   "cell_type": "markdown",
   "metadata": {},
   "source": [
    "# 5.  Edades de los pacientes de Covid ( 0-15 , 15-30, 30-45,45-60, > 60 )"
   ]
  },
  {
   "cell_type": "code",
   "execution_count": 5,
   "metadata": {},
   "outputs": [
    {
     "name": "stdout",
     "output_type": "stream",
     "text": [
      "Pacientes de covid entre 0 y 15 años:  116\n",
      "Pacientes de covid entre 16 y 30 años:  1262\n",
      "Pacientes de covid entre 31 y 45 años:  2716\n",
      "Pacientes de covid entre 46 y 60 años:  2631\n",
      "Pacientes de covid mayores de 60 años:  1536\n"
     ]
    }
   ],
   "source": [
    "import csv\n",
    "\n",
    "file='datos/200419COVID19MEXICO.csv'\n",
    "\n",
    "count0a15 = 0\n",
    "count16a30 = 0\n",
    "count31a45 = 0\n",
    "count46a60 = 0\n",
    "count60mas = 0\n",
    "\n",
    "with open (file, 'r', encoding='utf-8') as csv_file:\n",
    "    lector=csv.reader(csv_file)\n",
    "    next(lector)\n",
    "    for linea in lector:\n",
    "            #Verificar si tienen covid\n",
    "        if linea[30] == '1':\n",
    "            #Casos por edades\n",
    "            try:\n",
    "                if 0 <= int(linea[15]) < 16:\n",
    "                    count0a15 += 1\n",
    "                if 16 <= int(linea[15]) < 31:\n",
    "                    count16a30 += 1\n",
    "                if 31 <= int(linea[15]) < 46:\n",
    "                    count31a45 += 1\n",
    "                if 46 <= int(linea[15]) < 61:\n",
    "                    count46a60 += 1\n",
    "                if 60 < int(linea[15]):\n",
    "                    count60mas += 1\n",
    "            except:\n",
    "                pass\n",
    "                \n",
    "print('Pacientes de covid entre 0 y 15 años: ', count0a15)\n",
    "print('Pacientes de covid entre 16 y 30 años: ', count16a30)\n",
    "print('Pacientes de covid entre 31 y 45 años: ', count31a45)\n",
    "print('Pacientes de covid entre 46 y 60 años: ', count46a60)\n",
    "print('Pacientes de covid mayores de 60 años: ', count60mas)"
   ]
  },
  {
   "cell_type": "markdown",
   "metadata": {},
   "source": [
    "# 6. Número de personas confirmadas con diabetes y Covid"
   ]
  },
  {
   "cell_type": "code",
   "execution_count": 6,
   "metadata": {},
   "outputs": [
    {
     "name": "stdout",
     "output_type": "stream",
     "text": [
      "La cantidad de pacientes diabéticos es de:  1380\n"
     ]
    }
   ],
   "source": [
    "import csv\n",
    "\n",
    "file='datos/200419COVID19MEXICO.csv'\n",
    "\n",
    "countcoviddiabeticos = 0\n",
    "\n",
    "with open (file, 'r', encoding='utf-8') as csv_file:\n",
    "    lector=csv.reader(csv_file)\n",
    "    next(lector)\n",
    "    for linea in lector:\n",
    "        #La linea 19 es de el estado de diabetico y la 30 es del resultado de la prueba de covid\n",
    "        if (linea[19] == '1') & (linea[30] == '1'):\n",
    "            countcoviddiabeticos += 1\n",
    "            \n",
    "print ('La cantidad de pacientes diabéticos es de: ', countcoviddiabeticos)"
   ]
  },
  {
   "cell_type": "markdown",
   "metadata": {},
   "source": [
    "# 7. Número de pacientes que han entrado a cuidados intensivos"
   ]
  },
  {
   "cell_type": "code",
   "execution_count": 7,
   "metadata": {},
   "outputs": [
    {
     "name": "stdout",
     "output_type": "stream",
     "text": [
      "La cantidad de pacientes que han entrado a cuidados intensivos es de:  1066\n"
     ]
    }
   ],
   "source": [
    "import csv\n",
    "\n",
    "file='datos/200419COVID19MEXICO.csv'\n",
    "\n",
    "countICU = 0\n",
    "\n",
    "with open (file, 'r', encoding='utf-8') as csv_file:\n",
    "    lector=csv.reader(csv_file)\n",
    "    next(lector)\n",
    "    for linea in lector:\n",
    "        #La linea 34 define si el paciente entró al ICU\n",
    "        if linea[34] == '1':\n",
    "            countICU += 1\n",
    "            \n",
    "print ('La cantidad de pacientes que han entrado a cuidados intensivos es de: ', countICU)"
   ]
  },
  {
   "cell_type": "markdown",
   "metadata": {},
   "source": [
    "# 8. Porcentaje de pacientes mexicanos y no mexicanos."
   ]
  },
  {
   "cell_type": "code",
   "execution_count": 15,
   "metadata": {},
   "outputs": [
    {
     "name": "stdout",
     "output_type": "stream",
     "text": [
      "La cantidad de pacientes mexicanos es de:  48601\n",
      "El porcentaje de pacientes mexicanos es de:  98.04518862215049 %\n",
      "La cantidad de pacientes extranjeros es de:  969\n",
      "El porcentaje de pacientes extranjeros es de:  1.9548113778495058 %\n",
      "La cantidad de pacientes total es: 49570\n"
     ]
    }
   ],
   "source": [
    "import csv\n",
    "\n",
    "file='datos/200419COVID19MEXICO.csv'\n",
    "\n",
    "countmex = 0\n",
    "countext = 0\n",
    "num_pacientes=0\n",
    "\n",
    "\n",
    "with open (file, 'r', encoding='utf-8') as csv_file:\n",
    "    lector=csv.reader(csv_file)\n",
    "    next(lector)\n",
    "    for linea in lector:\n",
    "        num_pacientes += 1\n",
    "        #La linea 16 define si el paciente es extranjero o mexicano, sin embargo hay casos no especificados (99)#\n",
    "        if linea[16] == '1':\n",
    "            countmex += 1\n",
    "        if linea[16] == '2':\n",
    "            countext += 1\n",
    "            \n",
    "print ('La cantidad de pacientes mexicanos es de: ', countmex)\n",
    "print ('El porcentaje de pacientes mexicanos es de: ', countmex*100/num_pacientes, '%')\n",
    "print ('La cantidad de pacientes extranjeros es de: ', countext)\n",
    "print ('El porcentaje de pacientes extranjeros es de: ', countext*100/num_pacientes, '%')\n",
    "print ('La cantidad de pacientes total es:', num_pacientes)"
   ]
  },
  {
   "cell_type": "markdown",
   "metadata": {},
   "source": [
    "# 9. Número de pacientes que han entrado a cuidados intensivos."
   ]
  },
  {
   "cell_type": "markdown",
   "metadata": {},
   "source": [
    "### REPETIDA"
   ]
  },
  {
   "cell_type": "markdown",
   "metadata": {},
   "source": [
    "# 10. Encontrar la tabla que aparece en la imagen\n",
    "\n",
    "* 1 a 50 casos: 4 estados\n",
    "* 51 a 100 casos: 9 estados\n",
    "* 101 a 250 casos: 12 estados\n",
    "* 251 a 500 casos: 4 estados\n",
    "* 501 a 1000 casos: 2 estados\n",
    "* Mayor a 1001: 1 estados"
   ]
  },
  {
   "cell_type": "code",
   "execution_count": 1,
   "metadata": {},
   "outputs": [
    {
     "name": "stdout",
     "output_type": "stream",
     "text": [
      "1 a 50 Casos: 4\n",
      "50 a 100 Casos: 9\n",
      "101 a 250 Casos: 12\n",
      "251 a 500 Casos: 4\n",
      "501 a 1000 Casos: 2\n",
      "Más de 1000 Casos: 1\n"
     ]
    }
   ],
   "source": [
    "import csv\n",
    "\n",
    "file='datos/200419COVID19MEXICO.csv'\n",
    "\n",
    "estados = {}\n",
    "count1a50 = 0\n",
    "count51a100 = 0\n",
    "count101a250 = 0\n",
    "count251a500 = 0\n",
    "count501a1000 = 0\n",
    "count1000mas = 0 \n",
    "\n",
    "#Diccionarios, estructura key y values\n",
    "with open(file, encoding = 'utf-8') as csvfile:\n",
    "    lector = csv.reader(csvfile)\n",
    "    next(lector)\n",
    "    for linea in lector:\n",
    "        if linea[30] == '1':\n",
    "            estados[linea[4]] = estados.get(linea[4], 0) + 1\n",
    "\n",
    "for estado,casos in estados.items():\n",
    "    if 0 < casos <=50:\n",
    "        count1a50 += 1\n",
    "    if 50 < casos <=100:\n",
    "        count51a100 += 1\n",
    "    if 100 < casos <=250:\n",
    "        count101a250 += 1\n",
    "    if 250 < casos <=500:\n",
    "        count251a500 += 1\n",
    "    if 500 < casos <=1000:\n",
    "        count501a1000 += 1\n",
    "    if 1000 < casos:\n",
    "        count1000mas += 1\n",
    "        \n",
    "print ('1 a 50 Casos:', count1a50)\n",
    "print ('50 a 100 Casos:', count51a100)\n",
    "print ('101 a 250 Casos:', count101a250)\n",
    "print ('251 a 500 Casos:', count251a500)\n",
    "print ('501 a 1000 Casos:', count501a1000)\n",
    "print ('Más de 1000 Casos:', count1000mas)"
   ]
  },
  {
   "cell_type": "code",
   "execution_count": null,
   "metadata": {},
   "outputs": [],
   "source": []
  }
 ],
 "metadata": {
  "kernelspec": {
   "display_name": "Python 3 (ipykernel)",
   "language": "python",
   "name": "python3"
  },
  "language_info": {
   "codemirror_mode": {
    "name": "ipython",
    "version": 3
   },
   "file_extension": ".py",
   "mimetype": "text/x-python",
   "name": "python",
   "nbconvert_exporter": "python",
   "pygments_lexer": "ipython3",
   "version": "3.7.7"
  }
 },
 "nbformat": 4,
 "nbformat_minor": 4
}
